{
 "cells": [
  {
   "cell_type": "code",
   "execution_count": 8,
   "id": "eccc96b7-1eb9-488e-a2d5-cc17c64a0d93",
   "metadata": {},
   "outputs": [],
   "source": [
    "import bs4\n",
    "import requests\n",
    "import json\n",
    "import time\n",
    "import pandas as pd\n",
    "from random import shuffle\n",
    "from thefuzz import process, fuzz\n",
    "from modules.CountMinSketch.count_min_sketch2 import CountMinSketch2\n",
    "from modules.BloomFilter.bloom_filter2 import BloomFilter2\n",
    "from modules.Dataset.dataset import Dataset"
   ]
  },
  {
   "cell_type": "code",
   "execution_count": 2,
   "id": "e0c91f73-35d1-4113-94e2-b9c1804b015e",
   "metadata": {},
   "outputs": [],
   "source": [
    "ds = Dataset(links_base_url='https://en.wikipedia.org/wiki/', \n",
    "             links_uri='Wikipedia:Good_articles/By_length',\n",
    "             links_column='Article')\n",
    "\n",
    "words_list = ds.build_words_list(num_of_articles = 20)"
   ]
  },
  {
   "cell_type": "code",
   "execution_count": 3,
   "id": "b4098165-01f1-4959-93d1-6c1da4e375b4",
   "metadata": {},
   "outputs": [
    {
     "data": {
      "text/plain": [
       "369883"
      ]
     },
     "execution_count": 3,
     "metadata": {},
     "output_type": "execute_result"
    }
   ],
   "source": [
    "len(words_list)"
   ]
  },
  {
   "cell_type": "code",
   "execution_count": 4,
   "id": "c3f1af72-f733-4cf8-baa4-b5cf36fd6177",
   "metadata": {},
   "outputs": [],
   "source": [
    "NUM_COUNTERS = 300000\n",
    "NUM_HASH_FUNCTIONS = 100\n",
    "cms = CountMinSketch2(buckets=NUM_COUNTERS, tables=NUM_HASH_FUNCTIONS)\n",
    "\n",
    "for word in words_list:\n",
    "    cms.increment(word)"
   ]
  },
  {
   "cell_type": "code",
   "execution_count": 5,
   "id": "19ae4d29-274c-482a-86d2-9e543b8dcd76",
   "metadata": {},
   "outputs": [],
   "source": [
    "n = len(words_list) #no of items to add \n",
    "p = 0.01 #false positive probability \n",
    "bloomf = BloomFilter2(n,p)\n",
    "\n",
    "for word in words_list:\n",
    "    bloomf.add(word)"
   ]
  },
  {
   "cell_type": "code",
   "execution_count": 27,
   "id": "aceca4eb-fb0e-4914-bca1-f3b205f13d75",
   "metadata": {},
   "outputs": [],
   "source": [
    "some_sentance_with_error = \"I wanna apple please or a banana with \\\n",
    "    a paer and a lemon, or a wartermelon if possible. I hope i don't have an error\".split()"
   ]
  },
  {
   "cell_type": "code",
   "execution_count": 28,
   "id": "c07fcaa0-cc2e-45c9-a7df-d00b6a7ce48f",
   "metadata": {},
   "outputs": [
    {
     "name": "stdout",
     "output_type": "stream",
     "text": [
      "Measuring CMS vs Naive\n"
     ]
    }
   ],
   "source": [
    "print(\"Measuring CMS vs Naive\")\n",
    "\n",
    "time_naive_start = time.time()\n",
    "counts_naive = pd.Series(\n",
    "    (words_list.count(x) for x in some_sentance_with_error),\n",
    "    index=some_sentance_with_error,\n",
    ").sort_values(ascending=False)\n",
    "time_naive_end = time.time()\n",
    "\n",
    "time_cms_start = time.time()\n",
    "counts_cms = pd.Series(\n",
    "    (cms.count(x) for x in some_sentance_with_error),\n",
    "    index=some_sentance_with_error,\n",
    ").sort_values(ascending=False)\n",
    "time_cms_end = time.time()"
   ]
  },
  {
   "cell_type": "code",
   "execution_count": 29,
   "id": "23ebc180-7e8c-41ac-b34a-9e6970fe39bd",
   "metadata": {},
   "outputs": [
    {
     "data": {
      "text/plain": [
       "<Axes: xlabel='cnt_actual', ylabel='cnt_cms'>"
      ]
     },
     "execution_count": 29,
     "metadata": {},
     "output_type": "execute_result"
    },
    {
     "data": {
      "image/png": "[encoded data removed]",
      "text/plain": [
       "<Figure size 432x288 with 1 Axes>"
      ]
     },
     "metadata": {
      "needs_background": "light"
     },
     "output_type": "display_data"
    }
   ],
   "source": [
    "(\n",
    "    counts_cms.to_frame('cnt_cms')\n",
    "    .reset_index()\n",
    "    .merge(\n",
    "        counts_naive\n",
    "        .to_frame('cnt_actual')\n",
    "        .reset_index()\n",
    "    ).set_index('index')\n",
    ").plot.scatter(x='cnt_actual', y='cnt_cms')"
   ]
  },
  {
   "cell_type": "code",
   "execution_count": 35,
   "id": "97f83a9e-1b3b-4133-9f4c-5e0f3bd50e44",
   "metadata": {},
   "outputs": [
    {
     "data": {
      "text/html": [
       "<div>\n",
       "<style scoped>\n",
       "    .dataframe tbody tr th:only-of-type {\n",
       "        vertical-align: middle;\n",
       "    }\n",
       "\n",
       "    .dataframe tbody tr th {\n",
       "        vertical-align: top;\n",
       "    }\n",
       "\n",
       "    .dataframe thead th {\n",
       "        text-align: right;\n",
       "    }\n",
       "</style>\n",
       "<table border=\"1\" class=\"dataframe\">\n",
       "  <thead>\n",
       "    <tr style=\"text-align: right;\">\n",
       "      <th></th>\n",
       "      <th>self</th>\n",
       "      <th>other</th>\n",
       "    </tr>\n",
       "  </thead>\n",
       "  <tbody>\n",
       "  </tbody>\n",
       "</table>\n",
       "</div>"
      ],
      "text/plain": [
       "Empty DataFrame\n",
       "Columns: [self, other]\n",
       "Index: []"
      ]
     },
     "execution_count": 35,
     "metadata": {},
     "output_type": "execute_result"
    }
   ],
   "source": [
    "df_diff = counts_naive.compare(counts_cms)\n",
    "df_diff"
   ]
  },
  {
   "cell_type": "code",
   "execution_count": 36,
   "id": "41b626fc-dee8-4418-bad9-93a10c7f7fb0",
   "metadata": {},
   "outputs": [
    {
     "data": {
      "text/html": [
       "<div>\n",
       "<style scoped>\n",
       "    .dataframe tbody tr th:only-of-type {\n",
       "        vertical-align: middle;\n",
       "    }\n",
       "\n",
       "    .dataframe tbody tr th {\n",
       "        vertical-align: top;\n",
       "    }\n",
       "\n",
       "    .dataframe thead th {\n",
       "        text-align: right;\n",
       "    }\n",
       "</style>\n",
       "<table border=\"1\" class=\"dataframe\">\n",
       "  <thead>\n",
       "    <tr style=\"text-align: right;\">\n",
       "      <th></th>\n",
       "      <th>self</th>\n",
       "      <th>other</th>\n",
       "    </tr>\n",
       "  </thead>\n",
       "  <tbody>\n",
       "    <tr>\n",
       "      <th>and</th>\n",
       "      <td>6813</td>\n",
       "      <td>6813.0</td>\n",
       "    </tr>\n",
       "    <tr>\n",
       "      <th>a</th>\n",
       "      <td>4401</td>\n",
       "      <td>4401.0</td>\n",
       "    </tr>\n",
       "    <tr>\n",
       "      <th>a</th>\n",
       "      <td>4401</td>\n",
       "      <td>4401.0</td>\n",
       "    </tr>\n",
       "    <tr>\n",
       "      <th>a</th>\n",
       "      <td>4401</td>\n",
       "      <td>4401.0</td>\n",
       "    </tr>\n",
       "    <tr>\n",
       "      <th>a</th>\n",
       "      <td>4401</td>\n",
       "      <td>4401.0</td>\n",
       "    </tr>\n",
       "    <tr>\n",
       "      <th>with</th>\n",
       "      <td>1696</td>\n",
       "      <td>1696.0</td>\n",
       "    </tr>\n",
       "    <tr>\n",
       "      <th>an</th>\n",
       "      <td>755</td>\n",
       "      <td>755.0</td>\n",
       "    </tr>\n",
       "    <tr>\n",
       "      <th>or</th>\n",
       "      <td>558</td>\n",
       "      <td>558.0</td>\n",
       "    </tr>\n",
       "    <tr>\n",
       "      <th>or</th>\n",
       "      <td>558</td>\n",
       "      <td>558.0</td>\n",
       "    </tr>\n",
       "    <tr>\n",
       "      <th>have</th>\n",
       "      <td>529</td>\n",
       "      <td>529.0</td>\n",
       "    </tr>\n",
       "    <tr>\n",
       "      <th>I</th>\n",
       "      <td>264</td>\n",
       "      <td>264.0</td>\n",
       "    </tr>\n",
       "    <tr>\n",
       "      <th>I</th>\n",
       "      <td>264</td>\n",
       "      <td>264.0</td>\n",
       "    </tr>\n",
       "    <tr>\n",
       "      <th>if</th>\n",
       "      <td>83</td>\n",
       "      <td>83.0</td>\n",
       "    </tr>\n",
       "    <tr>\n",
       "      <th>don't</th>\n",
       "      <td>23</td>\n",
       "      <td>23.0</td>\n",
       "    </tr>\n",
       "    <tr>\n",
       "      <th>i</th>\n",
       "      <td>22</td>\n",
       "      <td>22.0</td>\n",
       "    </tr>\n",
       "    <tr>\n",
       "      <th>hope</th>\n",
       "      <td>10</td>\n",
       "      <td>10.0</td>\n",
       "    </tr>\n",
       "    <tr>\n",
       "      <th>possible.</th>\n",
       "      <td>6</td>\n",
       "      <td>6.0</td>\n",
       "    </tr>\n",
       "    <tr>\n",
       "      <th>error</th>\n",
       "      <td>4</td>\n",
       "      <td>4.0</td>\n",
       "    </tr>\n",
       "    <tr>\n",
       "      <th>wanna</th>\n",
       "      <td>1</td>\n",
       "      <td>1.0</td>\n",
       "    </tr>\n",
       "    <tr>\n",
       "      <th>banana</th>\n",
       "      <td>1</td>\n",
       "      <td>1.0</td>\n",
       "    </tr>\n",
       "    <tr>\n",
       "      <th>please</th>\n",
       "      <td>1</td>\n",
       "      <td>1.0</td>\n",
       "    </tr>\n",
       "    <tr>\n",
       "      <th>apple</th>\n",
       "      <td>1</td>\n",
       "      <td>1.0</td>\n",
       "    </tr>\n",
       "    <tr>\n",
       "      <th>wartermelon</th>\n",
       "      <td>0</td>\n",
       "      <td>0.0</td>\n",
       "    </tr>\n",
       "    <tr>\n",
       "      <th>paer</th>\n",
       "      <td>0</td>\n",
       "      <td>0.0</td>\n",
       "    </tr>\n",
       "    <tr>\n",
       "      <th>lemon,</th>\n",
       "      <td>0</td>\n",
       "      <td>0.0</td>\n",
       "    </tr>\n",
       "  </tbody>\n",
       "</table>\n",
       "</div>"
      ],
      "text/plain": [
       "             self   other\n",
       "and          6813  6813.0\n",
       "a            4401  4401.0\n",
       "a            4401  4401.0\n",
       "a            4401  4401.0\n",
       "a            4401  4401.0\n",
       "with         1696  1696.0\n",
       "an            755   755.0\n",
       "or            558   558.0\n",
       "or            558   558.0\n",
       "have          529   529.0\n",
       "I             264   264.0\n",
       "I             264   264.0\n",
       "if             83    83.0\n",
       "don't          23    23.0\n",
       "i              22    22.0\n",
       "hope           10    10.0\n",
       "possible.       6     6.0\n",
       "error           4     4.0\n",
       "wanna           1     1.0\n",
       "banana          1     1.0\n",
       "please          1     1.0\n",
       "apple           1     1.0\n",
       "wartermelon     0     0.0\n",
       "paer            0     0.0\n",
       "lemon,          0     0.0"
      ]
     },
     "execution_count": 36,
     "metadata": {},
     "output_type": "execute_result"
    }
   ],
   "source": [
    "df_all = counts_naive.compare(counts_cms, keep_shape=True, keep_equal=True)\n",
    "df_all"
   ]
  },
  {
   "cell_type": "code",
   "execution_count": 37,
   "id": "b34e32c2-6d3f-4ba3-af5d-510092164e61",
   "metadata": {},
   "outputs": [
    {
     "name": "stdout",
     "output_type": "stream",
     "text": [
      "Error rate is 0.0\n"
     ]
    }
   ],
   "source": [
    "diff_count = len(df_diff)\n",
    "error_rate = diff_count / len(counts_naive)\n",
    "print(f\"Error rate is {error_rate}\")"
   ]
  },
  {
   "cell_type": "code",
   "execution_count": 38,
   "id": "edd4a863-2f6f-45b5-95a4-f201a0e1ce20",
   "metadata": {},
   "outputs": [
    {
     "name": "stdout",
     "output_type": "stream",
     "text": [
      "Total time naive: 0.1332089900970459s\n",
      "Total time cms: 0.0021431446075439453s\n"
     ]
    }
   ],
   "source": [
    "print(f\"Total time naive: {time_naive_end - time_naive_start}s\")\n",
    "print(f\"Total time cms: {time_cms_end - time_cms_start}s\")"
   ]
  },
  {
   "cell_type": "code",
   "execution_count": null,
   "id": "47e335a8-a1b4-4706-92cf-5c19a67891cb",
   "metadata": {},
   "outputs": [],
   "source": []
  }
 ],
 "metadata": {
  "kernelspec": {
   "display_name": "Python 3 (ipykernel)",
   "language": "python",
   "name": "python3"
  },
  "language_info": {
   "codemirror_mode": {
    "name": "ipython",
    "version": 3
   },
   "file_extension": ".py",
   "mimetype": "text/x-python",
   "name": "python",
   "nbconvert_exporter": "python",
   "pygments_lexer": "ipython3",
   "version": "3.11.5"
  }
 },
 "nbformat": 4,
 "nbformat_minor": 5
}
