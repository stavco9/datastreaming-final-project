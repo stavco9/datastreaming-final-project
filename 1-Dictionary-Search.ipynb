{
 "cells": [
  {
   "cell_type": "code",
   "execution_count": 78,
   "id": "8259f1b6-ee05-45a8-adab-8f44e404691c",
   "metadata": {},
   "outputs": [],
   "source": [
    "import numpy as np\n",
    "import pandas as pd\n",
    "import os\n",
    "import json\n",
    "import difflib\n",
    "import requests\n",
    "import bs4\n",
    "from thefuzz import process, fuzz\n",
    "from random import shuffle \n",
    "from modules.BloomFilter.bloom_filter import BloomFilter"
   ]
  },
  {
   "cell_type": "code",
   "execution_count": 125,
   "id": "01b71a1c-6499-400b-a989-6826da3a764a",
   "metadata": {},
   "outputs": [],
   "source": [
    "with open('wordsapi_sample.json', 'r') as f:\n",
    "    words_file = json.loads(f.read())\n",
    "words_list = list(words_file.keys())"
   ]
  },
  {
   "cell_type": "code",
   "execution_count": 126,
   "id": "dcc55510-22f2-447b-a8f6-5918f43aee68",
   "metadata": {},
   "outputs": [],
   "source": [
    "WEBSITE_SCRAPES = [\n",
    "    \"https://en.wikipedia.org/wiki/Elvis_Presley\",\n",
    "    \"https://en.wikipedia.org/wiki/History_of_Poland_(1945%E2%80%931989)\",\n",
    "    \"https://en.wikipedia.org/wiki/Manhattan_Project\",\n",
    "    \"https://en.wikipedia.org/wiki/Military_history_of_Puerto_Rico\",\n",
    "    \"https://en.wikipedia.org/wiki/Pope_Pius_XII\"\n",
    "]\n",
    "\n",
    "for WEBSITE in WEBSITE_SCRAPES:\n",
    "    response = requests.get(WEBSITE,headers={'User-Agent': 'Mozilla/5.0'})\n",
    "    soup = bs4.BeautifulSoup(response.text,'html.parser')\n",
    "    \n",
    "    articale_list = soup.body.get_text(' ', strip=True).split()\n",
    "    words_list.extend(articale_list)"
   ]
  },
  {
   "cell_type": "code",
   "execution_count": 128,
   "id": "6c4883fe-9290-4fd8-94fd-491de16e714a",
   "metadata": {},
   "outputs": [
    {
     "data": {
      "text/plain": [
       "173584"
      ]
     },
     "execution_count": 128,
     "metadata": {},
     "output_type": "execute_result"
    }
   ],
   "source": [
    "shuffle(words_list)\n",
    "len(words_list)"
   ]
  },
  {
   "cell_type": "code",
   "execution_count": 129,
   "id": "c549eed4-3ab6-41a5-a878-3cbaa8bf8397",
   "metadata": {},
   "outputs": [],
   "source": [
    "n = len(words_list) #no of items to add \n",
    "p = 0.01 #false positive probability \n",
    "bloomf = BloomFilter(n,p)"
   ]
  },
  {
   "cell_type": "code",
   "execution_count": 130,
   "id": "7905b6fc-47c8-4ed3-817d-283bb3319411",
   "metadata": {},
   "outputs": [],
   "source": [
    "for word in words_list:\n",
    "    bloomf.add(word)"
   ]
  },
  {
   "cell_type": "code",
   "execution_count": 109,
   "id": "205fd48c-eae3-442c-b983-b2e459b0e79f",
   "metadata": {},
   "outputs": [
    {
     "name": "stdout",
     "output_type": "stream",
     "text": [
      "['hello', 'my', 'name', 'is', 'stav', 'cohen', 'and', \"i'm\", '28', 'from', 'herzliya', 'and', 'i', \"don't\", 'know', 'why', 'there', 'is', 'no', 'any', 'words', 'in', 'this', 'list', 'maybe', 'the', 'word', 'apple', 'exists', 'i', 'found', 'out', 'that', 'fruits', 'exist', 'like', 'banana', 'pear', 'mango', 'watermelon']\n"
     ]
    }
   ],
   "source": [
    "some_words = \"Hello my name is Stav Cohen and I'm 28 from Herzliya, and I don't know why there is no any words in this list. Maybe the word apple exists ? I found out that fruits exist like banana, pear, mango, watermelon\"\n",
    "some_words = some_words.replace(',', '').replace('.', '').replace('?', '').replace('!', '').lower().split()\n",
    "print(some_words)"
   ]
  },
  {
   "cell_type": "code",
   "execution_count": 110,
   "id": "29944901-1da9-4dbe-ba8c-804826ce11ec",
   "metadata": {},
   "outputs": [
    {
     "name": "stdout",
     "output_type": "stream",
     "text": [
      "my exists in the words list\n",
      "name exists in the words list\n",
      "is exists in the words list\n",
      "and exists in the words list\n",
      "28 exists in the words list\n",
      "from exists in the words list\n",
      "and exists in the words list\n",
      "i exists in the words list\n",
      "don't exists in the words list\n",
      "know exists in the words list\n",
      "why exists in the words list\n",
      "there exists in the words list\n",
      "is exists in the words list\n",
      "no exists in the words list\n",
      "any exists in the words list\n",
      "words exists in the words list\n",
      "in exists in the words list\n",
      "this exists in the words list\n",
      "list exists in the words list\n",
      "the exists in the words list\n",
      "word exists in the words list\n",
      "apple exists in the words list\n",
      "i exists in the words list\n",
      "found exists in the words list\n",
      "out exists in the words list\n",
      "that exists in the words list\n",
      "like exists in the words list\n"
     ]
    }
   ],
   "source": [
    "for word in some_words:\n",
    "    if bloomf.check(word):\n",
    "        print(f\"{word} exists in the words list\")"
   ]
  },
  {
   "cell_type": "code",
   "execution_count": 139,
   "id": "de60dcf7-24c6-4f3c-8718-85da42c8b3c4",
   "metadata": {},
   "outputs": [
    {
     "name": "stdout",
     "output_type": "stream",
     "text": [
      "Scanning I, success_percentage is 75\n",
      "Scanning wanna, success_percentage is 80.0\n",
      "Scanning apple, success_percentage is 80.0\n",
      "Scanning pleases, success_percentage is 85.71428571428571\n",
      "[('Please', 92), ('Please', 92), ('please', 92), ('please', 92), ('Please', 92)]\n",
      "Scanning or, success_percentage is 75\n",
      "Scanning a, success_percentage is 75\n",
      "Scanning bannana, success_percentage is 85.71428571428571\n",
      "[('Banana', 92), ('banana,', 92), ('bandana', 86)]\n",
      "Scanning with, success_percentage is 75.0\n",
      "Scanning a, success_percentage is 75\n",
      "Scanning paer, success_percentage is 75.0\n",
      "[('Paper', 89), ('paper', 89), ('Paper', 89), ('per', 86), ('per', 86)]\n",
      "Scanning and, success_percentage is 75\n",
      "Scanning a, success_percentage is 75\n",
      "Scanning lemone,, success_percentage is 85.71428571428571\n",
      "[('Leone', 91)]\n",
      "Scanning or, success_percentage is 75\n",
      "Scanning a, success_percentage is 75\n",
      "Scanning wartermelon, success_percentage is 90.9090909090909\n",
      "Scanning if, success_percentage is 75\n",
      "Scanning possibe, success_percentage is 85.71428571428571\n",
      "[('possible.', 93), ('possible,', 93), ('possible', 93), ('possible', 93), ('possible,', 93)]\n",
      "I wanna apple Please or a Banana with a Paper and a Leone or a wartermelon if possible.\n"
     ]
    }
   ],
   "source": [
    "#some_word_with_error = \"appel\"\n",
    "some_sentance_with_error = \"I wanna apple pleases or a bannana with a paer and a lemone, or a wartermelon if possibe\"\n",
    "new_sentance = []\n",
    "for word in some_sentance_with_error.split():\n",
    "    success_percentage = max((len(word) - 1) / len(word) * 100, 75)\n",
    "    print(f\"Scanning {word}, success_percentage is {success_percentage}\")\n",
    "    word_results = [x for x in process.extract(word, words_list, scorer=fuzz.ratio) if x[1] >= success_percentage]\n",
    "    if (len(word_results) > 0 and word_results[0][1] < 100):\n",
    "        print(word_results)\n",
    "        new_sentance.append(word_results[0][0] if word_results[0][1] >= success_percentage else word)\n",
    "    else:\n",
    "        new_sentance.append(word)\n",
    "\n",
    "print(' '.join(new_sentance))"
   ]
  },
  {
   "cell_type": "code",
   "execution_count": 113,
   "id": "03a51f40-29f3-49f8-b247-12838ecd1cc0",
   "metadata": {},
   "outputs": [
    {
     "data": {
      "text/plain": [
       "False"
      ]
     },
     "execution_count": 113,
     "metadata": {},
     "output_type": "execute_result"
    }
   ],
   "source": [
    "bloomf.check(\"appel\")"
   ]
  },
  {
   "cell_type": "code",
   "execution_count": null,
   "id": "a106db73-c908-428d-8a14-22aac63d90fa",
   "metadata": {},
   "outputs": [],
   "source": []
  }
 ],
 "metadata": {
  "kernelspec": {
   "display_name": "Python 3 (ipykernel)",
   "language": "python",
   "name": "python3"
  },
  "language_info": {
   "codemirror_mode": {
    "name": "ipython",
    "version": 3
   },
   "file_extension": ".py",
   "mimetype": "text/x-python",
   "name": "python",
   "nbconvert_exporter": "python",
   "pygments_lexer": "ipython3",
   "version": "3.11.5"
  }
 },
 "nbformat": 4,
 "nbformat_minor": 5
}
