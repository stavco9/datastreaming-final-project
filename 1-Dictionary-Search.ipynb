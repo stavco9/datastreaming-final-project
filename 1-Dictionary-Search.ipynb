{
 "cells": [
  {
   "cell_type": "code",
   "execution_count": 11,
   "id": "8259f1b6-ee05-45a8-adab-8f44e404691c",
   "metadata": {},
   "outputs": [],
   "source": [
    "import numpy as np\n",
    "import pandas as pd\n",
    "import os\n",
    "import json\n",
    "from random import shuffle \n",
    "from modules.BloomFilter.bloom_filter import BloomFilter"
   ]
  },
  {
   "cell_type": "code",
   "execution_count": 4,
   "id": "01b71a1c-6499-400b-a989-6826da3a764a",
   "metadata": {},
   "outputs": [],
   "source": [
    "with open('wordsapi_sample.json', 'r') as f:\n",
    "    words_file = json.loads(f.read())\n",
    "words_list = list(words_file.keys())"
   ]
  },
  {
   "cell_type": "code",
   "execution_count": 7,
   "id": "c549eed4-3ab6-41a5-a878-3cbaa8bf8397",
   "metadata": {},
   "outputs": [],
   "source": [
    "n = len(words_list) #no of items to add \n",
    "p = 0.01 #false positive probability \n",
    "bloomf = BloomFilter(n,p)"
   ]
  },
  {
   "cell_type": "code",
   "execution_count": 9,
   "id": "7905b6fc-47c8-4ed3-817d-283bb3319411",
   "metadata": {},
   "outputs": [],
   "source": [
    "for word in words_list:\n",
    "    bloomf.add(word)"
   ]
  },
  {
   "cell_type": "code",
   "execution_count": 12,
   "id": "6c4883fe-9290-4fd8-94fd-491de16e714a",
   "metadata": {},
   "outputs": [],
   "source": [
    "shuffle(words_list)"
   ]
  },
  {
   "cell_type": "code",
   "execution_count": 25,
   "id": "205fd48c-eae3-442c-b983-b2e459b0e79f",
   "metadata": {},
   "outputs": [
    {
     "name": "stdout",
     "output_type": "stream",
     "text": [
      "['hello', 'my', 'name', 'is', 'stav', 'cohen', 'and', \"i'm\", '28', 'from', 'herzliya', 'and', 'i', \"don't\", 'know', 'why', 'there', 'is', 'no', 'any', 'words', 'in', 'this', 'list', 'maybe', 'the', 'word', 'apple', 'exists', 'i', 'found', 'out', 'that', 'fruits', 'exist', 'like', 'banana', 'pear', 'mango', 'watermelon']\n"
     ]
    }
   ],
   "source": [
    "some_words = \"Hello my name is Stav Cohen and I'm 28 from Herzliya, and I don't know why there is no any words in this list. Maybe the word apple exists ? I found out that fruits exist like banana, pear, mango, watermelon\"\n",
    "some_words = some_words.replace(',', '').replace('.', '').replace('?', '').replace('!', '').lower().split()\n",
    "print(some_words)"
   ]
  },
  {
   "cell_type": "code",
   "execution_count": 26,
   "id": "29944901-1da9-4dbe-ba8c-804826ce11ec",
   "metadata": {},
   "outputs": [
    {
     "name": "stdout",
     "output_type": "stream",
     "text": [
      "apple exists in the words list\n",
      "like exists in the words list\n"
     ]
    }
   ],
   "source": [
    "for word in some_words:\n",
    "    if bloomf.check(word):\n",
    "        print(f\"{word} exists in the words list\")"
   ]
  },
  {
   "cell_type": "code",
   "execution_count": null,
   "id": "de60dcf7-24c6-4f3c-8718-85da42c8b3c4",
   "metadata": {},
   "outputs": [],
   "source": []
  },
  {
   "cell_type": "code",
   "execution_count": null,
   "id": "b0c4cc6b-0d3f-4972-90e0-cb864618f376",
   "metadata": {},
   "outputs": [],
   "source": []
  }
 ],
 "metadata": {
  "kernelspec": {
   "display_name": "Python 3 (ipykernel)",
   "language": "python",
   "name": "python3"
  },
  "language_info": {
   "codemirror_mode": {
    "name": "ipython",
    "version": 3
   },
   "file_extension": ".py",
   "mimetype": "text/x-python",
   "name": "python",
   "nbconvert_exporter": "python",
   "pygments_lexer": "ipython3",
   "version": "3.11.5"
  }
 },
 "nbformat": 4,
 "nbformat_minor": 5
}
