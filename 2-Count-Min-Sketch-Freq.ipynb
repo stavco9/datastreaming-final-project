{
 "cells": [
  {
   "cell_type": "code",
   "execution_count": 13,
   "id": "487c4401-b627-41f0-a4d0-01ac574868ee",
   "metadata": {},
   "outputs": [],
   "source": [
    "import bs4\n",
    "import requests\n",
    "import json\n",
    "import modules.Levenstein.levenstein as levenstein\n",
    "from random import shuffle\n",
    "from thefuzz import process, fuzz\n",
    "from modules.CountMinSketch.count_min_sketch import CountMinSketch\n",
    "from modules.BloomFilter.bloom_filter2 import BloomFilter2\n",
    "from modules.Dataset.dataset import Dataset"
   ]
  },
  {
   "cell_type": "code",
   "execution_count": 6,
   "id": "2411bf8c-1337-4209-ac89-8f7a3a4bf2eb",
   "metadata": {},
   "outputs": [],
   "source": [
    "ds = Dataset(links_base_url='https://en.wikipedia.org/wiki/', \n",
    "             links_uri='Wikipedia:Good_articles/By_length',\n",
    "             links_column='Article')\n",
    "\n",
    "words_list = ds.build_words_list(num_of_articles = 12)"
   ]
  },
  {
   "cell_type": "code",
   "execution_count": 7,
   "id": "a3ce5e0c-1a7b-421d-94b5-cf9e41471350",
   "metadata": {},
   "outputs": [
    {
     "data": {
      "text/plain": [
       "238280"
      ]
     },
     "execution_count": 7,
     "metadata": {},
     "output_type": "execute_result"
    }
   ],
   "source": [
    "len(words_list)"
   ]
  },
  {
   "cell_type": "code",
   "execution_count": 8,
   "id": "92b6ce7e-9d1e-4a25-b6ae-2743127dfb3a",
   "metadata": {},
   "outputs": [],
   "source": [
    "NUM_COUNTERS = 200000\n",
    "cms = CountMinSketch(NUM_COUNTERS)\n",
    "\n",
    "for word in words_list:\n",
    "    cms.increment(word)"
   ]
  },
  {
   "cell_type": "code",
   "execution_count": 9,
   "id": "126bd1bc-ae6a-468e-afa8-31e94f3ef52f",
   "metadata": {},
   "outputs": [],
   "source": [
    "n = len(words_list) #no of items to add \n",
    "p = 0.01 #false positive probability \n",
    "bloomf = BloomFilter2(n,p)\n",
    "\n",
    "for word in words_list:\n",
    "    bloomf.add(word)"
   ]
  },
  {
   "cell_type": "code",
   "execution_count": 18,
   "id": "58add3b0-a556-420a-bf52-7e11c659c976",
   "metadata": {},
   "outputs": [
    {
     "name": "stdout",
     "output_type": "stream",
     "text": [
      "Word I is correct. Skipping\n",
      "Scanning wanna, success_percentage is 80.0\n",
      "Scanning appel, success_percentage is 80.0\n",
      "Frequency of Appeal => 3 and match rate is 91\n",
      "Frequency of appeal => 7 and match rate is 91\n",
      "Scanning pleases, success_percentage is 85.71428571428571\n",
      "Frequency of Pleasure => 1 and match rate is 92\n",
      "Frequency of lease => 1 and match rate is 92\n",
      "Frequency of Please => 2 and match rate is 86\n",
      "Frequency of pleased => 5 and match rate is 83\n",
      "Frequency of please => 2 and match rate is 80\n",
      "Word or is correct. Skipping\n",
      "Word a is correct. Skipping\n",
      "Scanning bannana, success_percentage is 85.71428571428571\n",
      "Frequency of Bannon => 1 and match rate is 77\n",
      "Frequency of Anna => 9 and match rate is 73\n",
      "Word with is correct. Skipping\n",
      "Word a is correct. Skipping\n",
      "Scanning paer, success_percentage is 75.0\n",
      "Frequency of paper. => 1 and match rate is 89\n",
      "Frequency of Paper. => 1 and match rate is 89\n",
      "Frequency of paper => 5 and match rate is 89\n",
      "Frequency of Paper => 1 and match rate is 89\n",
      "Frequency of paper\" => 1 and match rate is 89\n",
      "Word and is correct. Skipping\n",
      "Word a is correct. Skipping\n",
      "Scanning lemone,, success_percentage is 85.71428571428571\n",
      "Frequency of Leone => 2 and match rate is 92\n",
      "Frequency of Lemoine => 1 and match rate is 92\n",
      "Frequency of Lemoine, => 1 and match rate is 91\n",
      "Frequency of lone => 1 and match rate is 91\n",
      "Frequency of Lemon => 1 and match rate is 80\n",
      "Word or is correct. Skipping\n",
      "Word a is correct. Skipping\n",
      "Scanning wartermelon, success_percentage is 90.9090909090909\n",
      "Frequency of Warren, => 6 and match rate is 71\n",
      "Frequency of Wartime => 2 and match rate is 71\n",
      "Frequency of Warren => 3 and match rate is 71\n",
      "Word if is correct. Skipping\n",
      "Scanning possibe., success_percentage is 87.5\n",
      "Frequency of Possible\" => 2 and match rate is 93\n",
      "Frequency of possible\" => 1 and match rate is 93\n",
      "Frequency of possible => 8 and match rate is 93\n",
      "Frequency of possible, => 1 and match rate is 93\n",
      "Frequency of (possible => 1 and match rate is 93\n",
      "Word I is correct. Skipping\n",
      "Word hope is correct. Skipping\n",
      "Word i is correct. Skipping\n",
      "Word don't is correct. Skipping\n",
      "Word have is correct. Skipping\n",
      "Word an is correct. Skipping\n",
      "Scanning errof, success_percentage is 80.0\n",
      "Frequency of error, => 1 and match rate is 80\n",
      "Frequency of error => 1 and match rate is 80\n",
      "Frequency of Cerro => 1 and match rate is 80\n",
      "Frequency of Perro => 1 and match rate is 80\n",
      "Frequency of Error: => 1 and match rate is 80\n"
     ]
    }
   ],
   "source": [
    "#some_word_with_error = \"appel\"\n",
    "some_sentance_with_error = \"I wanna appel pleases or a bannana with a paer and a lemone, or a wartermelon if possibe. I hope i don't have an errof\"\n",
    "new_sentance = []\n",
    "for word in some_sentance_with_error.split():\n",
    "    if not word in bloomf:\n",
    "        success_percentage = max((len(word) - 1) / len(word) * 100, 75)\n",
    "        print(f\"Scanning {word}, success_percentage is {success_percentage}\")\n",
    "        word_results = [x for x in process.extract(word, words_list, scorer=fuzz.ratio)]# if x[1] >= success_percentage]\n",
    "        if (len(word_results) > 0 and word_results[0][1] < 100):\n",
    "            list_fixes = [x[0] for x in word_results]\n",
    "            list_fixes = list(set(list_fixes))\n",
    "            for fix in list_fixes:\n",
    "                print(f\"Frequency of {fix} => {cms.approximateCount(fix)} and match rate is {word_results[list_fixes.index(fix)][1]}\")\n",
    "            #new_sentance.append(word_results[0][0] if word_results[0][1] >= success_percentage else word)\n",
    "        else:\n",
    "            continue\n",
    "            #new_sentance.append(word)\n",
    "    else:\n",
    "        print(f\"Word {word} is correct. Skipping\")\n",
    "\n",
    "#print(' '.join(new_sentance))"
   ]
  },
  {
   "cell_type": "code",
   "execution_count": 19,
   "id": "8b3df791-f410-4f60-aad4-ac186a4cfa76",
   "metadata": {},
   "outputs": [
    {
     "name": "stdout",
     "output_type": "stream",
     "text": [
      "Word I is correct. Skipping\n",
      "Scanning wanna, target_distance is 1\n",
      "Potential fix of wanna is wanga. Frequency is 3\n",
      "Potential fix of wanna is Hanna. Frequency is 3\n",
      "Potential fix of wanna is Wanna. Frequency is 2\n",
      "Scanning appel, target_distance is 1\n",
      "Potential fix of appel is appeal. Frequency is 7\n",
      "Scanning pleases, target_distance is 1\n",
      "Potential fix of pleases is pleased. Frequency is 5\n",
      "Potential fix of pleases is please. Frequency is 2\n",
      "Word or is correct. Skipping\n",
      "Word a is correct. Skipping\n",
      "Scanning bannana, target_distance is 1\n",
      "Word with is correct. Skipping\n",
      "Word a is correct. Skipping\n",
      "Scanning paer, target_distance is 1\n",
      "Potential fix of paer is pair. Frequency is 10\n",
      "Potential fix of paer is Baer. Frequency is 1\n",
      "Potential fix of paer is par. Frequency is 1\n",
      "Potential fix of paer is paper. Frequency is 5\n",
      "Potential fix of paer is per. Frequency is 24\n",
      "Word and is correct. Skipping\n",
      "Word a is correct. Skipping\n",
      "Scanning lemone,, target_distance is 1\n",
      "Word or is correct. Skipping\n",
      "Word a is correct. Skipping\n",
      "Scanning wartermelon, target_distance is 1\n",
      "Word if is correct. Skipping\n",
      "Scanning possibe., target_distance is 1\n",
      "Potential fix of possibe. is possible.. Frequency is 1\n",
      "Word I is correct. Skipping\n",
      "Word hope is correct. Skipping\n",
      "Word i is correct. Skipping\n",
      "Word don't is correct. Skipping\n",
      "Word have is correct. Skipping\n",
      "Word an is correct. Skipping\n",
      "Scanning errof, target_distance is 1\n",
      "Potential fix of errof is error. Frequency is 1\n"
     ]
    }
   ],
   "source": [
    "#some_word_with_error = \"appel\"\n",
    "some_sentance_with_error = \"I wanna appel pleases or a bannana with a paer and a lemone, or a wartermelon if possibe. I hope i don't have an errof\"\n",
    "new_sentance = []\n",
    "for word in some_sentance_with_error.split():\n",
    "    if not word in bloomf:\n",
    "        target_distance = 1\n",
    "        print(f\"Scanning {word}, target_distance is {target_distance}\")\n",
    "        word_results = [x for x in words_list if levenstein.levenshtein_two_matrix_rows(x, word) == 1]\n",
    "        for word_fix in list(set(word_results)):\n",
    "            print(f\"Potential fix of {word} is {word_fix}. Frequency is {cms.approximateCount(word_fix)}\")\n",
    "            #new_sentance.append(word_results[0][0] if word_results[0][1] >= success_percentage else word)\n",
    "        else:\n",
    "            continue\n",
    "            #new_sentance.append(word)\n",
    "    else:\n",
    "        print(f\"Word {word} is correct. Skipping\")\n",
    "\n",
    "#print(' '.join(new_sentance))"
   ]
  },
  {
   "cell_type": "code",
   "execution_count": null,
   "id": "850741bc-a807-4deb-981d-df77aae48e11",
   "metadata": {},
   "outputs": [],
   "source": []
  }
 ],
 "metadata": {
  "kernelspec": {
   "display_name": "Python 3 (ipykernel)",
   "language": "python",
   "name": "python3"
  },
  "language_info": {
   "codemirror_mode": {
    "name": "ipython",
    "version": 3
   },
   "file_extension": ".py",
   "mimetype": "text/x-python",
   "name": "python",
   "nbconvert_exporter": "python",
   "pygments_lexer": "ipython3",
   "version": "3.11.5"
  }
 },
 "nbformat": 4,
 "nbformat_minor": 5
}
