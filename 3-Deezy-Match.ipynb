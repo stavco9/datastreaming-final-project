{
 "cells": [
  {
   "cell_type": "code",
   "execution_count": 7,
   "id": "487c4401-b627-41f0-a4d0-01ac574868ee",
   "metadata": {},
   "outputs": [],
   "source": [
    "import bs4\n",
    "import requests\n",
    "import json\n",
    "import os\n",
    "from random import shuffle\n",
    "from DeezyMatch import train as dm_train, plot_log, finetune as dm_finetune, inference as dm_inference, combine_vecs, candidate_ranker, candidate_ranker_init\n",
    "from modules.CountMinSketch.count_min_sketch import CountMinSketch\n",
    "from modules.BloomFilter.bloom_filter2 import BloomFilter2\n",
    "from modules.Dataset.dataset import Dataset"
   ]
  },
  {
   "cell_type": "code",
   "execution_count": 8,
   "id": "2411bf8c-1337-4209-ac89-8f7a3a4bf2eb",
   "metadata": {},
   "outputs": [],
   "source": [
    "words_set = []\n",
    "\n",
    "for i in range(10):\n",
    "    ds = Dataset(links_base_url='https://en.wikipedia.org/wiki/', \n",
    "                 links_uri='Wikipedia:Good_articles/By_length',\n",
    "                 links_column='Article')\n",
    "    \n",
    "    words_list = ds.build_words_list(num_of_articles = 20)\n",
    "    words_set.append(words_list)"
   ]
  },
  {
   "cell_type": "code",
   "execution_count": 10,
   "id": "8283fb06-5ae9-454b-9f8e-135eef8c7883",
   "metadata": {},
   "outputs": [],
   "source": [
    "PATH = './deezymatch_generator/deezymatch_train/candidates'\n",
    "if not os.path.exists(PATH):\n",
    "    os.makedirs(PATH)\n",
    "\n",
    "for words_list in words_set:\n",
    "    with open(f\"{PATH}/dataset_candidates_{words_set.index(words_list)}.txt\", 'w') as f:\n",
    "        f.write('\\n'.join(words_list))"
   ]
  },
  {
   "cell_type": "code",
   "execution_count": null,
   "id": "28e8ca2d-6e6f-4553-ad39-f24967aab396",
   "metadata": {},
   "outputs": [],
   "source": []
  }
 ],
 "metadata": {
  "kernelspec": {
   "display_name": "Python 3 (ipykernel)",
   "language": "python",
   "name": "python3"
  },
  "language_info": {
   "codemirror_mode": {
    "name": "ipython",
    "version": 3
   },
   "file_extension": ".py",
   "mimetype": "text/x-python",
   "name": "python",
   "nbconvert_exporter": "python",
   "pygments_lexer": "ipython3",
   "version": "3.11.5"
  }
 },
 "nbformat": 4,
 "nbformat_minor": 5
}
