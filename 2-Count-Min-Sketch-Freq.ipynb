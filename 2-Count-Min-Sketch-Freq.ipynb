{
 "cells": [
  {
   "cell_type": "code",
   "execution_count": 53,
   "id": "487c4401-b627-41f0-a4d0-01ac574868ee",
   "metadata": {},
   "outputs": [],
   "source": [
    "import bs4\n",
    "import requests\n",
    "import json\n",
    "from random import shuffle\n",
    "from thefuzz import process, fuzz\n",
    "from modules.CountMinSketch.count_min_sketch import CountMinSketch\n",
    "from modules.BloomFilter.bloom_filter2 import BloomFilter2\n",
    "from modules.Dataset.dataset import Dataset"
   ]
  },
  {
   "cell_type": "code",
   "execution_count": 48,
   "id": "2411bf8c-1337-4209-ac89-8f7a3a4bf2eb",
   "metadata": {},
   "outputs": [
    {
     "name": "stdout",
     "output_type": "stream",
     "text": [
      "230449\n"
     ]
    }
   ],
   "source": [
    "ds = Dataset()\n",
    "\n",
    "words_list = ds.build_words_list(num_of_articles = 12)\n",
    "print(len(words_list))"
   ]
  },
  {
   "cell_type": "code",
   "execution_count": 49,
   "id": "a3ce5e0c-1a7b-421d-94b5-cf9e41471350",
   "metadata": {},
   "outputs": [
    {
     "data": {
      "text/plain": [
       "230449"
      ]
     },
     "execution_count": 49,
     "metadata": {},
     "output_type": "execute_result"
    }
   ],
   "source": [
    "len(words_list)"
   ]
  },
  {
   "cell_type": "code",
   "execution_count": 50,
   "id": "92b6ce7e-9d1e-4a25-b6ae-2743127dfb3a",
   "metadata": {},
   "outputs": [],
   "source": [
    "NUM_COUNTERS = 200000\n",
    "cms = CountMinSketch(NUM_COUNTERS)\n",
    "\n",
    "for word in words_list:\n",
    "    cms.increment(word)"
   ]
  },
  {
   "cell_type": "code",
   "execution_count": 54,
   "id": "126bd1bc-ae6a-468e-afa8-31e94f3ef52f",
   "metadata": {},
   "outputs": [],
   "source": [
    "n = len(words_list) #no of items to add \n",
    "p = 0.01 #false positive probability \n",
    "bloomf = BloomFilter2(n,p)\n",
    "\n",
    "for word in words_list:\n",
    "    bloomf.add(word)"
   ]
  },
  {
   "cell_type": "code",
   "execution_count": 60,
   "id": "58add3b0-a556-420a-bf52-7e11c659c976",
   "metadata": {},
   "outputs": [
    {
     "name": "stdout",
     "output_type": "stream",
     "text": [
      "Word I is correct. Skipping\n",
      "Scanning wanna, success_percentage is 80.0\n",
      "Scanning appel, success_percentage is 80.0\n",
      "Frequency of Appelo, => 1 and match rate is 91\n",
      "Frequency of appeal => 2 and match rate is 91\n",
      "Frequency of Appeal\" => 1 and match rate is 91\n",
      "Frequency of appeal => 2 and match rate is 91\n",
      "Frequency of appeal. => 1 and match rate is 91\n",
      "Scanning pleases, success_percentage is 85.71428571428571\n",
      "Frequency of Please => 7 and match rate is 92\n",
      "Frequency of Please => 7 and match rate is 92\n",
      "Frequency of please. => 2 and match rate is 92\n",
      "Frequency of Please => 7 and match rate is 92\n",
      "Frequency of Please => 7 and match rate is 92\n",
      "Word or is correct. Skipping\n",
      "Word a is correct. Skipping\n",
      "Scanning bannana, success_percentage is 85.71428571428571\n",
      "Frequency of Anna-Lena => 3 and match rate is 75\n",
      "Frequency of Anna-Lena => 3 and match rate is 75\n",
      "Frequency of Anna-Lena => 3 and match rate is 75\n",
      "Frequency of Anna => 4 and match rate is 73\n",
      "Frequency of Anna => 4 and match rate is 73\n",
      "Word with is correct. Skipping\n",
      "Word a is correct. Skipping\n",
      "Scanning paer, success_percentage is 75.0\n",
      "Frequency of paper => 5 and match rate is 89\n",
      "Frequency of paper => 5 and match rate is 89\n",
      "Frequency of paper. => 1 and match rate is 89\n",
      "Frequency of paper => 5 and match rate is 89\n",
      "Frequency of paper => 5 and match rate is 89\n",
      "Word and is correct. Skipping\n",
      "Word a is correct. Skipping\n",
      "Scanning lemone,, success_percentage is 85.71428571428571\n",
      "Frequency of Lemon => 1 and match rate is 91\n",
      "Frequency of Lone => 7 and match rate is 80\n",
      "Frequency of Leon => 3 and match rate is 80\n",
      "Frequency of Lene => 1 and match rate is 80\n",
      "Frequency of Leon => 3 and match rate is 80\n",
      "Word or is correct. Skipping\n",
      "Word a is correct. Skipping\n",
      "Scanning wartermelon, success_percentage is 90.9090909090909\n",
      "Frequency of Warren => 10 and match rate is 71\n",
      "Frequency of Warren => 10 and match rate is 71\n",
      "Frequency of Warren => 10 and match rate is 71\n",
      "Frequency of Warren => 10 and match rate is 71\n",
      "Frequency of Warren => 10 and match rate is 71\n",
      "Word if is correct. Skipping\n",
      "Scanning possibe., success_percentage is 87.5\n",
      "Frequency of possible => 12 and match rate is 93\n",
      "Frequency of possible => 12 and match rate is 93\n",
      "Frequency of possible => 12 and match rate is 93\n",
      "Frequency of possible => 12 and match rate is 93\n",
      "Frequency of possible. => 2 and match rate is 93\n",
      "Word I is correct. Skipping\n",
      "Word hope is correct. Skipping\n",
      "Word i is correct. Skipping\n",
      "Word don't is correct. Skipping\n",
      "Word have is correct. Skipping\n",
      "Word an is correct. Skipping\n",
      "Scanning errof, success_percentage is 80.0\n",
      "Frequency of error: => 8 and match rate is 80\n",
      "Frequency of error: => 8 and match rate is 80\n",
      "Frequency of error, => 1 and match rate is 80\n",
      "Frequency of error: => 8 and match rate is 80\n",
      "Frequency of error: => 8 and match rate is 80\n"
     ]
    }
   ],
   "source": [
    "#some_word_with_error = \"appel\"\n",
    "some_sentance_with_error = \"I wanna appel pleases or a bannana with a paer and a lemone, or a wartermelon if possibe. I hope i don't have an errof\"\n",
    "new_sentance = []\n",
    "for word in some_sentance_with_error.split():\n",
    "    if not word in bloomf:\n",
    "        success_percentage = max((len(word) - 1) / len(word) * 100, 75)\n",
    "        print(f\"Scanning {word}, success_percentage is {success_percentage}\")\n",
    "        word_results = [x for x in process.extract(word, words_list, scorer=fuzz.ratio)]# if x[1] >= success_percentage]\n",
    "        if (len(word_results) > 0 and word_results[0][1] < 100):\n",
    "            list_fixes = [x[0] for x in word_results]\n",
    "            for fix in list_fixes:\n",
    "                print(f\"Frequency of {fix} => {cms.approximateCount(fix)} and match rate is {word_results[list_fixes.index(fix)][1]}\")\n",
    "            #new_sentance.append(word_results[0][0] if word_results[0][1] >= success_percentage else word)\n",
    "        else:\n",
    "            continue\n",
    "            #new_sentance.append(word)\n",
    "    else:\n",
    "        print(f\"Word {word} is correct. Skipping\")\n",
    "\n",
    "#print(' '.join(new_sentance))"
   ]
  },
  {
   "cell_type": "code",
   "execution_count": null,
   "id": "8b3df791-f410-4f60-aad4-ac186a4cfa76",
   "metadata": {},
   "outputs": [],
   "source": []
  }
 ],
 "metadata": {
  "kernelspec": {
   "display_name": "Python 3 (ipykernel)",
   "language": "python",
   "name": "python3"
  },
  "language_info": {
   "codemirror_mode": {
    "name": "ipython",
    "version": 3
   },
   "file_extension": ".py",
   "mimetype": "text/x-python",
   "name": "python",
   "nbconvert_exporter": "python",
   "pygments_lexer": "ipython3",
   "version": "3.11.5"
  }
 },
 "nbformat": 4,
 "nbformat_minor": 5
}
