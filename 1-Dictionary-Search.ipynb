{
 "cells": [
  {
   "cell_type": "code",
   "execution_count": 140,
   "id": "8259f1b6-ee05-45a8-adab-8f44e404691c",
   "metadata": {},
   "outputs": [],
   "source": [
    "import numpy as np\n",
    "import pandas as pd\n",
    "import os\n",
    "import json\n",
    "import difflib\n",
    "import requests\n",
    "import bs4\n",
    "from thefuzz import process, fuzz\n",
    "from random import shuffle \n",
    "from modules.BloomFilter.bloom_filter import BloomFilter\n",
    "from modules.Dataset.dataset import Dataset"
   ]
  },
  {
   "cell_type": "code",
   "execution_count": 141,
   "id": "dcc55510-22f2-447b-a8f6-5918f43aee68",
   "metadata": {},
   "outputs": [
    {
     "name": "stdout",
     "output_type": "stream",
     "text": [
      "219267\n"
     ]
    }
   ],
   "source": [
    "ds = Dataset()\n",
    "\n",
    "words_list = ds.build_words_list(num_of_articles = 12)\n",
    "print(len(words_list))"
   ]
  },
  {
   "cell_type": "code",
   "execution_count": 142,
   "id": "6c4883fe-9290-4fd8-94fd-491de16e714a",
   "metadata": {},
   "outputs": [
    {
     "data": {
      "text/plain": [
       "219267"
      ]
     },
     "execution_count": 142,
     "metadata": {},
     "output_type": "execute_result"
    }
   ],
   "source": [
    "len(words_list)"
   ]
  },
  {
   "cell_type": "code",
   "execution_count": 143,
   "id": "c549eed4-3ab6-41a5-a878-3cbaa8bf8397",
   "metadata": {},
   "outputs": [],
   "source": [
    "n = len(words_list) #no of items to add \n",
    "p = 0.01 #false positive probability \n",
    "bloomf = BloomFilter(n,p)"
   ]
  },
  {
   "cell_type": "code",
   "execution_count": 144,
   "id": "7905b6fc-47c8-4ed3-817d-283bb3319411",
   "metadata": {},
   "outputs": [],
   "source": [
    "for word in words_list:\n",
    "    bloomf.add(word)"
   ]
  },
  {
   "cell_type": "code",
   "execution_count": 147,
   "id": "de60dcf7-24c6-4f3c-8718-85da42c8b3c4",
   "metadata": {},
   "outputs": [
    {
     "name": "stdout",
     "output_type": "stream",
     "text": [
      "Scanning I, success_percentage is 75\n",
      "Scanning wanna, success_percentage is 80.0\n",
      "Scanning appel, success_percentage is 80.0\n",
      "[('appeal,', 91), ('appeal', 91), ('appeal\"', 91), ('appeal', 91), ('appeal', 91)]\n",
      "Scanning pleases, success_percentage is 85.71428571428571\n",
      "[('pleasures\".', 88), ('pleased', 86)]\n",
      "Scanning or, success_percentage is 75\n",
      "Scanning a, success_percentage is 75\n",
      "Scanning bananna, success_percentage is 85.71428571428571\n",
      "Scanning with, success_percentage is 75.0\n",
      "Scanning a, success_percentage is 75\n",
      "Scanning paer, success_percentage is 75.0\n",
      "[('paper', 89), ('paper.', 89), ('Paper', 89), ('paper', 89), ('Paper', 89)]\n",
      "Scanning and, success_percentage is 75\n",
      "Scanning a, success_percentage is 75\n",
      "Scanning lemone,, success_percentage is 85.71428571428571\n",
      "[('Leone', 91), ('Lemon', 91), ('Leone', 91)]\n",
      "Scanning or, success_percentage is 75\n",
      "Scanning a, success_percentage is 75\n",
      "Scanning wartermelon, success_percentage is 90.9090909090909\n",
      "Scanning if, success_percentage is 75\n",
      "Scanning possibe, success_percentage is 85.71428571428571\n",
      "[('possible', 93), ('possible', 93), ('possible.', 93), ('possible,', 93), ('possible', 93)]\n",
      "I wanna appeal, pleasures\". or a bananna with a paper and a Leone or a wartermelon if possible\n"
     ]
    }
   ],
   "source": [
    "#some_word_with_error = \"appel\"\n",
    "some_sentance_with_error = \"I wanna appel pleases or a bananna with a paer and a lemone, or a wartermelon if possibe\"\n",
    "new_sentance = []\n",
    "for word in some_sentance_with_error.split():\n",
    "    success_percentage = max((len(word) - 1) / len(word) * 100, 75)\n",
    "    print(f\"Scanning {word}, success_percentage is {success_percentage}\")\n",
    "    word_results = [x for x in process.extract(word, words_list, scorer=fuzz.ratio) if x[1] >= success_percentage]\n",
    "    if (len(word_results) > 0 and word_results[0][1] < 100):\n",
    "        print(word_results)\n",
    "        new_sentance.append(word_results[0][0] if word_results[0][1] >= success_percentage else word)\n",
    "    else:\n",
    "        new_sentance.append(word)\n",
    "\n",
    "print(' '.join(new_sentance))"
   ]
  },
  {
   "cell_type": "code",
   "execution_count": 113,
   "id": "03a51f40-29f3-49f8-b247-12838ecd1cc0",
   "metadata": {},
   "outputs": [
    {
     "data": {
      "text/plain": [
       "False"
      ]
     },
     "execution_count": 113,
     "metadata": {},
     "output_type": "execute_result"
    }
   ],
   "source": [
    "bloomf.check(\"appel\")"
   ]
  },
  {
   "cell_type": "code",
   "execution_count": null,
   "id": "a106db73-c908-428d-8a14-22aac63d90fa",
   "metadata": {},
   "outputs": [],
   "source": []
  }
 ],
 "metadata": {
  "kernelspec": {
   "display_name": "Python 3 (ipykernel)",
   "language": "python",
   "name": "python3"
  },
  "language_info": {
   "codemirror_mode": {
    "name": "ipython",
    "version": 3
   },
   "file_extension": ".py",
   "mimetype": "text/x-python",
   "name": "python",
   "nbconvert_exporter": "python",
   "pygments_lexer": "ipython3",
   "version": "3.11.5"
  }
 },
 "nbformat": 4,
 "nbformat_minor": 5
}
