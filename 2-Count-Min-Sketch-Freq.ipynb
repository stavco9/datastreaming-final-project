{
 "cells": [
  {
   "cell_type": "code",
   "execution_count": 42,
   "id": "487c4401-b627-41f0-a4d0-01ac574868ee",
   "metadata": {},
   "outputs": [],
   "source": [
    "import bs4\n",
    "import requests\n",
    "import json\n",
    "from random import shuffle\n",
    "from thefuzz import process, fuzz\n",
    "from modules.CountMinSketch.count_min_sketch import CountMinSketch\n",
    "from modules.Dataset.dataset import Dataset"
   ]
  },
  {
   "cell_type": "code",
   "execution_count": 43,
   "id": "2411bf8c-1337-4209-ac89-8f7a3a4bf2eb",
   "metadata": {},
   "outputs": [
    {
     "name": "stdout",
     "output_type": "stream",
     "text": [
      "264063\n"
     ]
    }
   ],
   "source": [
    "ds = Dataset()\n",
    "\n",
    "words_list = ds.build_words_list(num_of_articles = 12)\n",
    "print(len(words_list))"
   ]
  },
  {
   "cell_type": "code",
   "execution_count": 44,
   "id": "a3ce5e0c-1a7b-421d-94b5-cf9e41471350",
   "metadata": {},
   "outputs": [
    {
     "data": {
      "text/plain": [
       "264063"
      ]
     },
     "execution_count": 44,
     "metadata": {},
     "output_type": "execute_result"
    }
   ],
   "source": [
    "len(words_list)"
   ]
  },
  {
   "cell_type": "code",
   "execution_count": 45,
   "id": "92b6ce7e-9d1e-4a25-b6ae-2743127dfb3a",
   "metadata": {},
   "outputs": [],
   "source": [
    "NUM_COUNTERS = 200000\n",
    "cms = CountMinSketch(NUM_COUNTERS)\n",
    "\n",
    "for word in words_list:\n",
    "    cms.increment(word)"
   ]
  },
  {
   "cell_type": "code",
   "execution_count": 46,
   "id": "58add3b0-a556-420a-bf52-7e11c659c976",
   "metadata": {},
   "outputs": [
    {
     "name": "stdout",
     "output_type": "stream",
     "text": [
      "Scanning I, success_percentage is 75\n",
      "Scanning wanna, success_percentage is 80.0\n",
      "Frequency of Anna => 3\n",
      "Frequency of Anna => 3\n",
      "Frequency of Anna => 3\n",
      "Frequency of manna => 21\n",
      "Frequency of Swann => 3\n",
      "Scanning apple, success_percentage is 80.0\n",
      "Scanning pleases, success_percentage is 85.71428571428571\n",
      "Frequency of Please => 6\n",
      "Frequency of Please => 6\n",
      "Frequency of Please => 6\n",
      "Frequency of Please => 6\n",
      "Frequency of Pleasures => 1\n",
      "Scanning or, success_percentage is 75\n",
      "Scanning a, success_percentage is 75\n",
      "Scanning bannana, success_percentage is 85.71428571428571\n",
      "Frequency of bananas. => 1\n",
      "Scanning with, success_percentage is 75.0\n",
      "Scanning a, success_percentage is 75\n",
      "Scanning paer, success_percentage is 75.0\n",
      "Frequency of Paper\" => 1\n",
      "Frequency of Paper => 2\n",
      "Frequency of paper => 4\n",
      "Frequency of paper. => 3\n",
      "Frequency of Paper => 2\n",
      "Scanning and, success_percentage is 75\n",
      "Scanning a, success_percentage is 75\n",
      "Scanning lemone,, success_percentage is 85.71428571428571\n",
      "Frequency of Leone => 3\n",
      "Frequency of Leone => 3\n",
      "Frequency of Leone => 3\n",
      "Frequency of Lemonade => 42\n",
      "Frequency of Lemonade => 42\n",
      "Scanning or, success_percentage is 75\n",
      "Scanning a, success_percentage is 75\n",
      "Scanning wartermelon, success_percentage is 90.9090909090909\n",
      "Scanning if, success_percentage is 75\n",
      "Scanning possibe, success_percentage is 85.71428571428571\n",
      "Frequency of possible => 36\n",
      "Frequency of possible => 36\n",
      "Frequency of possible => 36\n",
      "Frequency of possible => 36\n",
      "Frequency of Possible => 4\n"
     ]
    }
   ],
   "source": [
    "#some_word_with_error = \"appel\"\n",
    "some_sentance_with_error = \"I wanna apple pleases or a bannana with a paer and a lemone, or a wartermelon if possibe\"\n",
    "new_sentance = []\n",
    "for word in some_sentance_with_error.split():\n",
    "    success_percentage = max((len(word) - 1) / len(word) * 100, 75)\n",
    "    print(f\"Scanning {word}, success_percentage is {success_percentage}\")\n",
    "    word_results = [x for x in process.extract(word, words_list, scorer=fuzz.ratio) if x[1] >= success_percentage]\n",
    "    if (len(word_results) > 0 and word_results[0][1] < 100):\n",
    "        list_fixes = [x[0] for x in word_results]\n",
    "        for fix in list_fixes:\n",
    "            print(f\"Frequency of {fix} => {cms.approximateCount(fix)}\")\n",
    "        #new_sentance.append(word_results[0][0] if word_results[0][1] >= success_percentage else word)\n",
    "    else:\n",
    "        continue\n",
    "        #new_sentance.append(word)\n",
    "\n",
    "#print(' '.join(new_sentance))"
   ]
  },
  {
   "cell_type": "code",
   "execution_count": null,
   "id": "8b3df791-f410-4f60-aad4-ac186a4cfa76",
   "metadata": {},
   "outputs": [],
   "source": []
  }
 ],
 "metadata": {
  "kernelspec": {
   "display_name": "Python 3 (ipykernel)",
   "language": "python",
   "name": "python3"
  },
  "language_info": {
   "codemirror_mode": {
    "name": "ipython",
    "version": 3
   },
   "file_extension": ".py",
   "mimetype": "text/x-python",
   "name": "python",
   "nbconvert_exporter": "python",
   "pygments_lexer": "ipython3",
   "version": "3.11.5"
  }
 },
 "nbformat": 4,
 "nbformat_minor": 5
}
