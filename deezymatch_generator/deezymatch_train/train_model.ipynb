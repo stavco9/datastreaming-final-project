{
 "cells": [
  {
   "cell_type": "code",
   "execution_count": 39,
   "id": "41fa3b0e-0860-4874-ae27-52e5205f4e61",
   "metadata": {},
   "outputs": [
    {
     "name": "stderr",
     "output_type": "stream",
     "text": [
      "/Users/scohen6/miniconda3/lib/python3.11/site-packages/DeezyMatch/rnn_networks.py:30: TqdmExperimentalWarning: Using `tqdm.autonotebook.tqdm` in notebook mode. Use `tqdm.tqdm` instead to force console mode (e.g. in jupyter console)\n",
      "  from tqdm.autonotebook import tqdm\n"
     ]
    }
   ],
   "source": [
    "import pandas as pd\n",
    "import os\n",
    "from sklearn.model_selection import train_test_split\n",
    "from DeezyMatch import train as dm_train"
   ]
  },
  {
   "cell_type": "code",
   "execution_count": 14,
   "id": "ba66abdb-fb31-4427-8a29-1d378e701311",
   "metadata": {},
   "outputs": [],
   "source": [
    "columns = ['test_word', 'true_word', 'is_correct']\n",
    "df = pd.read_csv('../create_topmatching_dataset/wikigaz_en_topmatching.txt',sep='\\t', names=columns)"
   ]
  },
  {
   "cell_type": "code",
   "execution_count": 15,
   "id": "b75b72f5-d271-4060-888f-eb928775fd4c",
   "metadata": {},
   "outputs": [
    {
     "data": {
      "text/html": [
       "<div>\n",
       "<style scoped>\n",
       "    .dataframe tbody tr th:only-of-type {\n",
       "        vertical-align: middle;\n",
       "    }\n",
       "\n",
       "    .dataframe tbody tr th {\n",
       "        vertical-align: top;\n",
       "    }\n",
       "\n",
       "    .dataframe thead th {\n",
       "        text-align: right;\n",
       "    }\n",
       "</style>\n",
       "<table border=\"1\" class=\"dataframe\">\n",
       "  <thead>\n",
       "    <tr style=\"text-align: right;\">\n",
       "      <th></th>\n",
       "      <th>test_word</th>\n",
       "      <th>true_word</th>\n",
       "      <th>is_correct</th>\n",
       "    </tr>\n",
       "  </thead>\n",
       "  <tbody>\n",
       "    <tr>\n",
       "      <th>0</th>\n",
       "      <td>Bentley Priory</td>\n",
       "      <td>McCredie Township</td>\n",
       "      <td>False</td>\n",
       "    </tr>\n",
       "    <tr>\n",
       "      <th>1</th>\n",
       "      <td>Bentley Priory</td>\n",
       "      <td>Bentley Priory</td>\n",
       "      <td>True</td>\n",
       "    </tr>\n",
       "    <tr>\n",
       "      <th>2</th>\n",
       "      <td>Westfield Heritage Centre</td>\n",
       "      <td>Cardiff School of Engineering</td>\n",
       "      <td>False</td>\n",
       "    </tr>\n",
       "    <tr>\n",
       "      <th>3</th>\n",
       "      <td>Westfield Heritage Centre</td>\n",
       "      <td>Westfield Heritage Centre</td>\n",
       "      <td>True</td>\n",
       "    </tr>\n",
       "    <tr>\n",
       "      <th>4</th>\n",
       "      <td>Southgate Estate</td>\n",
       "      <td>Black Rock Rail Yard</td>\n",
       "      <td>False</td>\n",
       "    </tr>\n",
       "  </tbody>\n",
       "</table>\n",
       "</div>"
      ],
      "text/plain": [
       "                   test_word                      true_word  is_correct\n",
       "0             Bentley Priory              McCredie Township       False\n",
       "1             Bentley Priory                 Bentley Priory        True\n",
       "2  Westfield Heritage Centre  Cardiff School of Engineering       False\n",
       "3  Westfield Heritage Centre      Westfield Heritage Centre        True\n",
       "4           Southgate Estate           Black Rock Rail Yard       False"
      ]
     },
     "execution_count": 15,
     "metadata": {},
     "output_type": "execute_result"
    }
   ],
   "source": [
    "df.head(5)"
   ]
  },
  {
   "cell_type": "code",
   "execution_count": 29,
   "id": "29a9803e-a7cf-475c-912b-d9cf06b99b1c",
   "metadata": {},
   "outputs": [],
   "source": [
    "TRAIN_PERC = 70\n",
    "VALID_PERC = 15\n",
    "TEST_PERC = 15"
   ]
  },
  {
   "cell_type": "code",
   "execution_count": 30,
   "id": "ea5d2ebf-d16e-444c-872a-297f3112f059",
   "metadata": {},
   "outputs": [],
   "source": [
    "# shuffle the DataFrame rows\n",
    "df = df.sample(frac = 1)"
   ]
  },
  {
   "cell_type": "code",
   "execution_count": 34,
   "id": "4b26b568-3c94-4968-a0f8-2d233fba74c8",
   "metadata": {},
   "outputs": [
    {
     "data": {
      "text/html": [
       "<div>\n",
       "<style scoped>\n",
       "    .dataframe tbody tr th:only-of-type {\n",
       "        vertical-align: middle;\n",
       "    }\n",
       "\n",
       "    .dataframe tbody tr th {\n",
       "        vertical-align: top;\n",
       "    }\n",
       "\n",
       "    .dataframe thead th {\n",
       "        text-align: right;\n",
       "    }\n",
       "</style>\n",
       "<table border=\"1\" class=\"dataframe\">\n",
       "  <thead>\n",
       "    <tr style=\"text-align: right;\">\n",
       "      <th></th>\n",
       "      <th>test_word</th>\n",
       "      <th>true_word</th>\n",
       "      <th>is_correct</th>\n",
       "    </tr>\n",
       "  </thead>\n",
       "  <tbody>\n",
       "    <tr>\n",
       "      <th>134041</th>\n",
       "      <td>WJZY</td>\n",
       "      <td>WJZY</td>\n",
       "      <td>True</td>\n",
       "    </tr>\n",
       "    <tr>\n",
       "      <th>149977</th>\n",
       "      <td>Marburn Academy</td>\n",
       "      <td>Marburn Academy</td>\n",
       "      <td>True</td>\n",
       "    </tr>\n",
       "    <tr>\n",
       "      <th>269627</th>\n",
       "      <td>New Coundon</td>\n",
       "      <td>New Coundon</td>\n",
       "      <td>True</td>\n",
       "    </tr>\n",
       "    <tr>\n",
       "      <th>23272</th>\n",
       "      <td>Garden Theater</td>\n",
       "      <td>Limbury Cum Biscot</td>\n",
       "      <td>False</td>\n",
       "    </tr>\n",
       "    <tr>\n",
       "      <th>123644</th>\n",
       "      <td>Windgather Rocks</td>\n",
       "      <td>Fork Union Academy</td>\n",
       "      <td>False</td>\n",
       "    </tr>\n",
       "  </tbody>\n",
       "</table>\n",
       "</div>"
      ],
      "text/plain": [
       "               test_word           true_word  is_correct\n",
       "134041              WJZY                WJZY        True\n",
       "149977   Marburn Academy     Marburn Academy        True\n",
       "269627       New Coundon         New Coundon        True\n",
       "23272     Garden Theater  Limbury Cum Biscot       False\n",
       "123644  Windgather Rocks  Fork Union Academy       False"
      ]
     },
     "execution_count": 34,
     "metadata": {},
     "output_type": "execute_result"
    }
   ],
   "source": [
    "df.head(5)"
   ]
  },
  {
   "cell_type": "code",
   "execution_count": 37,
   "id": "bbb4bfef-6a88-48e9-a78d-31350651d4b4",
   "metadata": {},
   "outputs": [],
   "source": [
    "train_count = int(len(df) * TRAIN_PERC / 100)\n",
    "valid_count = train_count + int(len(df) * VALID_PERC / 100)\n",
    "df_train = df.iloc[:train_count,:]\n",
    "df_valid = df.iloc[train_count:valid_count,:]\n",
    "df_test = df.iloc[valid_count:,:]"
   ]
  },
  {
   "cell_type": "code",
   "execution_count": 38,
   "id": "0098e19a-03cb-418a-b9a8-9c17a088c3ee",
   "metadata": {},
   "outputs": [],
   "source": [
    "df_train.to_csv('wikigaz_train_set.txt', sep='\\t', index=False, header=False)\n",
    "df_valid.to_csv('wikigaz_valid_set.txt', sep='\\t', index=False, header=False)\n",
    "df_test.to_csv('wikigaz_test_set.txt', sep='\\t', index=False, header=False)"
   ]
  },
  {
   "cell_type": "code",
   "execution_count": null,
   "id": "9248c254-ff1f-4839-b57f-98f0147e20cf",
   "metadata": {},
   "outputs": [
    {
     "name": "stdout",
     "output_type": "stream",
     "text": [
      "\u001b[92m2024-03-22 17:57:07\u001b[0m \u001b[95mmacos-RD46FV4LPF\u001b[0m \u001b[1m\u001b[90m[INFO]\u001b[0m \u001b[2;32mread input file: ./train_conf.yaml\u001b[0m\n",
      "\u001b[92m2024-03-22 17:57:07\u001b[0m \u001b[95mmacos-RD46FV4LPF\u001b[0m \u001b[1m\u001b[90m[INFO]\u001b[0m \u001b[1;32mpytorch will use: cpu\u001b[0m\n",
      "\u001b[92m2024-03-22 17:57:07\u001b[0m \u001b[95mmacos-RD46FV4LPF\u001b[0m \u001b[1m\u001b[90m[INFO]\u001b[0m \u001b[2;32mread CSV file: ./wikigaz_train_set.txt\u001b[0m\n",
      "\u001b[92m2024-03-22 17:57:08\u001b[0m \u001b[95mmacos-RD46FV4LPF\u001b[0m \u001b[1m\u001b[90m[INFO]\u001b[0m \u001b[1;32mnumber of labels, True: 112356 and False: 112015\u001b[0m\n",
      "\u001b[92m2024-03-22 17:57:08\u001b[0m \u001b[95mmacos-RD46FV4LPF\u001b[0m \u001b[1m\u001b[90m[INFO]\u001b[0m \u001b[2;32mSplitting the Dataset\u001b[0m\n",
      "\u001b[92m2024-03-22 17:57:08\u001b[0m \u001b[95mmacos-RD46FV4LPF\u001b[0m \u001b[1m\u001b[90m[INFO]\u001b[0m \u001b[2;32mfinish splitting the Dataset. User time: 0.04558205604553223\u001b[0m\n",
      "\u001b[92m2024-03-22 17:57:08\u001b[0m \u001b[95mmacos-RD46FV4LPF\u001b[0m \u001b[1m\u001b[90m[INFO]\u001b[0m \u001b[1;32msplits are as follow:\n",
      "split\n",
      "train    157059\n",
      "test      33657\n",
      "val       33655\n",
      "Name: count, dtype: int64\u001b[0m\n",
      "\u001b[92m2024-03-22 17:57:08\u001b[0m \u001b[95mmacos-RD46FV4LPF\u001b[0m \u001b[1m\u001b[90m[INFO]\u001b[0m \u001b[2;32mstart creating a lookup table and convert characters to indices\u001b[0m\n",
      "\u001b[92m2024-03-22 17:57:09\u001b[0m \u001b[95mmacos-RD46FV4LPF\u001b[0m \u001b[1m\u001b[90m[INFO]\u001b[0m \u001b[2;32m-- create vocabulary\u001b[0m\n",
      "\u001b[92m2024-03-22 17:57:15\u001b[0m \u001b[95mmacos-RD46FV4LPF\u001b[0m \u001b[1m\u001b[90m[INFO]\u001b[0m \u001b[2;32m-- convert tokens to indices\u001b[0m\n",
      "\u001b[92m2024-03-22 17:57:15\u001b[0m \u001b[95mmacos-RD46FV4LPF\u001b[0m \u001b[1m\u001b[90m[INFO]\u001b[0m \u001b[2;32m-- create a lookup table for tokens\u001b[0m\n",
      "\u001b[92m2024-03-22 17:57:15\u001b[0m \u001b[95mmacos-RD46FV4LPF\u001b[0m \u001b[1m\u001b[90m[INFO]\u001b[0m \u001b[2;32m-- read list of characters from ./characters_v001.vocab\u001b[0m\n",
      "\u001b[92m2024-03-22 17:57:15\u001b[0m \u001b[95mmacos-RD46FV4LPF\u001b[0m \u001b[1m\u001b[90m[INFO]\u001b[0m \u001b[2;32m-- Length of vocabulary: 23491\u001b[0m\n"
     ]
    },
    {
     "name": "stderr",
     "output_type": "stream",
     "text": [
      "                                                                                \r"
     ]
    },
    {
     "name": "stdout",
     "output_type": "stream",
     "text": [
      "\n",
      "\n",
      "\n",
      "\u001b[92m2024-03-22 17:57:18\u001b[0m \u001b[95mmacos-RD46FV4LPF\u001b[0m \u001b[1m\u001b[90m[INFO]\u001b[0m \u001b[95m******************************\u001b[0m\n",
      "\u001b[92m2024-03-22 17:57:18\u001b[0m \u001b[95mmacos-RD46FV4LPF\u001b[0m \u001b[1m\u001b[90m[INFO]\u001b[0m \u001b[95m**** (Bi-directional) GRU ****\u001b[0m\n",
      "\u001b[92m2024-03-22 17:57:18\u001b[0m \u001b[95mmacos-RD46FV4LPF\u001b[0m \u001b[1m\u001b[90m[INFO]\u001b[0m \u001b[95m******************************\u001b[0m\n",
      "\u001b[92m2024-03-22 17:57:18\u001b[0m \u001b[95mmacos-RD46FV4LPF\u001b[0m \u001b[1m\u001b[90m[INFO]\u001b[0m \u001b[2;32mread inputs\u001b[0m\n",
      "\u001b[92m2024-03-22 17:57:18\u001b[0m \u001b[95mmacos-RD46FV4LPF\u001b[0m \u001b[1m\u001b[90m[INFO]\u001b[0m \u001b[2;32mcreate a two_parallel_rnns model\u001b[0m\n",
      "\u001b[92m2024-03-22 17:57:19\u001b[0m \u001b[95mmacos-RD46FV4LPF\u001b[0m \u001b[1m\u001b[90m[INFO]\u001b[0m \u001b[1;32mstart fitting parameters\u001b[0m\n",
      "\u001b[92m2024-03-22 17:57:19\u001b[0m \u001b[95mmacos-RD46FV4LPF\u001b[0m \u001b[1m\u001b[90m[INFO]\u001b[0m \u001b[2;32mNumber of batches: 614\u001b[0m\n",
      "\u001b[92m2024-03-22 17:57:19\u001b[0m \u001b[95mmacos-RD46FV4LPF\u001b[0m \u001b[1m\u001b[90m[INFO]\u001b[0m \u001b[2;32mNumber of epochs: 5\u001b[0m\n"
     ]
    },
    {
     "data": {
      "application/json": {
       "ascii": false,
       "bar_format": null,
       "colour": null,
       "elapsed": 0.002173900604248047,
       "initial": 0,
       "n": 0,
       "ncols": null,
       "nrows": 24,
       "postfix": null,
       "prefix": "",
       "rate": null,
       "total": 5,
       "unit": "it",
       "unit_divisor": 1000,
       "unit_scale": false
      },
      "application/vnd.jupyter.widget-view+json": {
       "model_id": "5983c211cb1c482894ecbb48c4ada636",
       "version_major": 2,
       "version_minor": 0
      },
      "text/plain": [
       "  0%|          | 0/5 [00:00<?, ?it/s]"
      ]
     },
     "metadata": {},
     "output_type": "display_data"
    },
    {
     "data": {
      "application/json": {
       "ascii": false,
       "bar_format": null,
       "colour": null,
       "elapsed": 0.0021088123321533203,
       "initial": 0,
       "n": 0,
       "ncols": null,
       "nrows": 24,
       "postfix": null,
       "prefix": "",
       "rate": null,
       "total": 614,
       "unit": "it",
       "unit_divisor": 1000,
       "unit_scale": false
      },
      "application/vnd.jupyter.widget-view+json": {
       "model_id": "7325aad404cb49fa8f98e8163ac7193f",
       "version_major": 2,
       "version_minor": 0
      },
      "text/plain": [
       "  0%|          | 0/614 [00:00<?, ?it/s]"
      ]
     },
     "metadata": {},
     "output_type": "display_data"
    }
   ],
   "source": [
    "# train a new model\n",
    "dm_train(input_file_path=\"./train_conf.yaml\", \n",
    "         dataset_path=\"./wikigaz_train_set.txt\", \n",
    "         model_name=\"wikigaz_en_model\")"
   ]
  },
  {
   "cell_type": "code",
   "execution_count": null,
   "id": "ccda7ef6-dcd0-4fdb-a198-bb40c1f4859d",
   "metadata": {},
   "outputs": [],
   "source": []
  }
 ],
 "metadata": {
  "kernelspec": {
   "display_name": "Python 3 (ipykernel)",
   "language": "python",
   "name": "python3"
  },
  "language_info": {
   "codemirror_mode": {
    "name": "ipython",
    "version": 3
   },
   "file_extension": ".py",
   "mimetype": "text/x-python",
   "name": "python",
   "nbconvert_exporter": "python",
   "pygments_lexer": "ipython3",
   "version": "3.11.5"
  }
 },
 "nbformat": 4,
 "nbformat_minor": 5
}
